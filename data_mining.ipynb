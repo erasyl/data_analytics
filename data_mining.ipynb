{
 "cells": [
  {
   "cell_type": "code",
   "execution_count": null,
   "id": "a7e65ae1",
   "metadata": {},
   "outputs": [],
   "source": [
    "import pandas as pd\n",
    "\n",
    "def get_dataframe_shape(file_path):\n",
    "    \"\"\"\n",
    "    Эта функция считывает файл и выводит размеры датафрейма\n",
    "    \"\"\"\n",
    "    df = pd.read_csv(file_path, encoding='utf-8')\n",
    "    return df.shape\n",
    "\n",
    "def get_dataframe_dtypes(file_path):\n",
    "    \"\"\"\n",
    "    Our function to get dataframe data types  \n",
    "    \"\"\"\n",
    "    df = pd.read_csv(file_path, encoding='windows-1251')\n",
    "    return df.dtypes\n",
    "\n",
    "\n",
    "def get_dataframe_columns(file_path):\n",
    "    \"\"\"\n",
    "    Our function to get dataframe data types  \n",
    "    \"\"\"\n",
    "    df = pd.read_csv(file_path)\n",
    "    return df.columns"
   ]
  }
 ],
 "metadata": {
  "kernelspec": {
   "display_name": "Python 3 (ipykernel)",
   "language": "python",
   "name": "python3"
  },
  "language_info": {
   "codemirror_mode": {
    "name": "ipython",
    "version": 3
   },
   "file_extension": ".py",
   "mimetype": "text/x-python",
   "name": "python",
   "nbconvert_exporter": "python",
   "pygments_lexer": "ipython3",
   "version": "3.9.12"
  }
 },
 "nbformat": 4,
 "nbformat_minor": 5
}
